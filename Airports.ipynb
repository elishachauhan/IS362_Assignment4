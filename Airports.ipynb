{
 "cells": [
  {
   "cell_type": "markdown",
   "metadata": {},
   "source": [
    "# Airports\n",
    "\n",
    "## Location & Weather "
   ]
  },
  {
   "cell_type": "markdown",
   "metadata": {},
   "source": [
    "### Task:\n",
    "\n",
    "1. Use the information in the .CSV files found at https://github.com/hadley/nycflights13/tree/master/data-raw for your source data.\n",
    "2. Write your code using Python and pandas, and deliver it in a Jupyter notebook. You should post your notebook in a GitHub repository, and send me a link to the notebook.\n",
    "3. For each of the three questions listed above, you’ll need to verify your answers (in two cases by searching for additional confirming information, and in the third case being alert for possible outliers). For the first two questions above, you may want to start by generating a list of the five northernmost or easternmost U.S. airports.\n",
    "4. In addition to providing code, you should state your answers to each of the above questions (in Markdown) in the Jupyter notebook.\n",
    "5. To receive full credit, you’ll need to include in your Jupyter notebook both your code and your documented assumptions and any changes that you made to the data based on your research (using Markdown) in your Jupyter notebook."
   ]
  },
  {
   "cell_type": "markdown",
   "metadata": {},
   "source": [
    "#### What is the northernmost airport in the United States?"
   ]
  },
  {
   "cell_type": "code",
   "execution_count": 1,
   "metadata": {
    "collapsed": false
   },
   "outputs": [
    {
     "data": {
      "text/html": [
       "<div>\n",
       "<table border=\"1\" class=\"dataframe\">\n",
       "  <thead>\n",
       "    <tr style=\"text-align: right;\">\n",
       "      <th></th>\n",
       "      <th>faa</th>\n",
       "      <th>name</th>\n",
       "      <th>lat</th>\n",
       "      <th>lon</th>\n",
       "      <th>alt</th>\n",
       "      <th>tz</th>\n",
       "      <th>dst</th>\n",
       "    </tr>\n",
       "  </thead>\n",
       "  <tbody>\n",
       "    <tr>\n",
       "      <th>393</th>\n",
       "      <td>EEN</td>\n",
       "      <td>Dillant Hopkins Airport</td>\n",
       "      <td>72.270833</td>\n",
       "      <td>42.898333</td>\n",
       "      <td>149</td>\n",
       "      <td>-5</td>\n",
       "      <td>A</td>\n",
       "    </tr>\n",
       "    <tr>\n",
       "      <th>217</th>\n",
       "      <td>BRW</td>\n",
       "      <td>Wiley Post Will Rogers Mem</td>\n",
       "      <td>71.285446</td>\n",
       "      <td>-156.766003</td>\n",
       "      <td>44</td>\n",
       "      <td>-9</td>\n",
       "      <td>A</td>\n",
       "    </tr>\n",
       "    <tr>\n",
       "      <th>98</th>\n",
       "      <td>AIN</td>\n",
       "      <td>Wainwright Airport</td>\n",
       "      <td>70.638056</td>\n",
       "      <td>-159.994722</td>\n",
       "      <td>41</td>\n",
       "      <td>-9</td>\n",
       "      <td>A</td>\n",
       "    </tr>\n",
       "    <tr>\n",
       "      <th>674</th>\n",
       "      <td>K03</td>\n",
       "      <td>Wainwright As</td>\n",
       "      <td>70.613378</td>\n",
       "      <td>-159.860350</td>\n",
       "      <td>35</td>\n",
       "      <td>-9</td>\n",
       "      <td>A</td>\n",
       "    </tr>\n",
       "    <tr>\n",
       "      <th>140</th>\n",
       "      <td>ATK</td>\n",
       "      <td>Atqasuk Edward Burnell Sr Memorial Airport</td>\n",
       "      <td>70.467300</td>\n",
       "      <td>-157.436000</td>\n",
       "      <td>96</td>\n",
       "      <td>-9</td>\n",
       "      <td>A</td>\n",
       "    </tr>\n",
       "  </tbody>\n",
       "</table>\n",
       "</div>"
      ],
      "text/plain": [
       "     faa                                        name        lat         lon  \\\n",
       "393  EEN                     Dillant Hopkins Airport  72.270833   42.898333   \n",
       "217  BRW                  Wiley Post Will Rogers Mem  71.285446 -156.766003   \n",
       "98   AIN                          Wainwright Airport  70.638056 -159.994722   \n",
       "674  K03                               Wainwright As  70.613378 -159.860350   \n",
       "140  ATK  Atqasuk Edward Burnell Sr Memorial Airport  70.467300 -157.436000   \n",
       "\n",
       "     alt  tz dst  \n",
       "393  149  -5   A  \n",
       "217   44  -9   A  \n",
       "98    41  -9   A  \n",
       "674   35  -9   A  \n",
       "140   96  -9   A  "
      ]
     },
     "execution_count": 1,
     "metadata": {},
     "output_type": "execute_result"
    }
   ],
   "source": [
    "import pandas as pd\n",
    "northern_airport = pd.read_csv('https://raw.githubusercontent.com/maddogdatascience/DATA607/master/airports.csv')\n",
    "northern_airport.head()\n",
    "northern_airport.sort_values(\"lat\", ascending = False).head(5)"
   ]
  },
  {
   "cell_type": "markdown",
   "metadata": {},
   "source": [
    "Since the longitude for Dillant Hopkins Airport seems off compared to the other values, it is important to research at least two other sources to confirm that Dillant Hopkins Airport is indeed the northernmost airport. In order to do this, I searched on Google and found two websites that gave the correct latititude and longitude values. In my findings, it was confirmed that the latitudinal value of 72.270833 is actually -72.270833. To confirm the other values, I did the same on my own and the latitudinal values were the same. Here are the two websites in which I confirmed that Dillant Hopkins Airport is the northernmost airport in the United States: http://latitude.to/articles-by-country/us/united-states/179120/dillanthopkins-airport; http://www.airnav.com/airport/keen"
   ]
  },
  {
   "cell_type": "markdown",
   "metadata": {},
   "source": [
    "##### Answer: \n",
    "\n",
    "Dillant Hopkins Airport"
   ]
  },
  {
   "cell_type": "markdown",
   "metadata": {},
   "source": [
    "#### What is the easternmost airport in the United States?"
   ]
  },
  {
   "cell_type": "code",
   "execution_count": 3,
   "metadata": {
    "collapsed": false
   },
   "outputs": [
    {
     "data": {
      "text/html": [
       "<div>\n",
       "<table border=\"1\" class=\"dataframe\">\n",
       "  <thead>\n",
       "    <tr style=\"text-align: right;\">\n",
       "      <th></th>\n",
       "      <th>faa</th>\n",
       "      <th>name</th>\n",
       "      <th>lat</th>\n",
       "      <th>lon</th>\n",
       "      <th>alt</th>\n",
       "      <th>tz</th>\n",
       "      <th>dst</th>\n",
       "    </tr>\n",
       "  </thead>\n",
       "  <tbody>\n",
       "    <tr>\n",
       "      <th>419</th>\n",
       "      <td>EPM</td>\n",
       "      <td>Eastport Municipal Airport</td>\n",
       "      <td>44.910111</td>\n",
       "      <td>-67.012694</td>\n",
       "      <td>45</td>\n",
       "      <td>-5</td>\n",
       "      <td>A</td>\n",
       "    </tr>\n",
       "    <tr>\n",
       "      <th>591</th>\n",
       "      <td>HUL</td>\n",
       "      <td>Houlton Intl</td>\n",
       "      <td>46.123083</td>\n",
       "      <td>-67.792056</td>\n",
       "      <td>489</td>\n",
       "      <td>-4</td>\n",
       "      <td>A</td>\n",
       "    </tr>\n",
       "    <tr>\n",
       "      <th>246</th>\n",
       "      <td>CAR</td>\n",
       "      <td>Caribou Muni</td>\n",
       "      <td>46.871500</td>\n",
       "      <td>-68.017917</td>\n",
       "      <td>626</td>\n",
       "      <td>-4</td>\n",
       "      <td>A</td>\n",
       "    </tr>\n",
       "    <tr>\n",
       "      <th>1052</th>\n",
       "      <td>PQI</td>\n",
       "      <td>Northern Maine Rgnl At Presque Isle</td>\n",
       "      <td>46.688958</td>\n",
       "      <td>-68.044797</td>\n",
       "      <td>534</td>\n",
       "      <td>-4</td>\n",
       "      <td>A</td>\n",
       "    </tr>\n",
       "    <tr>\n",
       "      <th>1340</th>\n",
       "      <td>WFK</td>\n",
       "      <td>Northern Aroostook Regional Airport</td>\n",
       "      <td>47.285556</td>\n",
       "      <td>-68.312778</td>\n",
       "      <td>988</td>\n",
       "      <td>-5</td>\n",
       "      <td>A</td>\n",
       "    </tr>\n",
       "  </tbody>\n",
       "</table>\n",
       "</div>"
      ],
      "text/plain": [
       "      faa                                 name        lat        lon  alt  tz  \\\n",
       "419   EPM           Eastport Municipal Airport  44.910111 -67.012694   45  -5   \n",
       "591   HUL                         Houlton Intl  46.123083 -67.792056  489  -4   \n",
       "246   CAR                         Caribou Muni  46.871500 -68.017917  626  -4   \n",
       "1052  PQI  Northern Maine Rgnl At Presque Isle  46.688958 -68.044797  534  -4   \n",
       "1340  WFK  Northern Aroostook Regional Airport  47.285556 -68.312778  988  -5   \n",
       "\n",
       "     dst  \n",
       "419    A  \n",
       "591    A  \n",
       "246    A  \n",
       "1052   A  \n",
       "1340   A  "
      ]
     },
     "execution_count": 3,
     "metadata": {},
     "output_type": "execute_result"
    }
   ],
   "source": [
    "easternmost = pd.read_csv('https://raw.githubusercontent.com/maddogdatascience/DATA607/master/airports.csv')\n",
    "eastern_airport = easternmost[(easternmost['lat'] > 44) & (easternmost['lat'] <= 50) & (easternmost['lon'] >= -75) & (easternmost['lon'] <= -65)]\n",
    "eastern_airport.head()\n",
    "eastern_airport.sort_values('lon', ascending=False).head(5)"
   ]
  },
  {
   "cell_type": "markdown",
   "metadata": {},
   "source": [
    "Since the latitude and longitudinal values seemed accurate, I double-checked each value using www.airnav.com and www.latitude.to\n",
    "Each value matched the values in the table above. The longitudinal value is the value that is sorted since it pinpoints west and east direction. Specifically, Eastport Municipal Airport was confirmed as the easternmost airport in the United States by these links:  http://www.airnav.com/airport/KEPM; http://latitude.to/articles-by-country/us/united-states/209992/eastport-municipal-airport"
   ]
  },
  {
   "cell_type": "markdown",
   "metadata": {},
   "source": [
    "##### Answer:\n",
    "\n",
    "Eastern Municipal Airport"
   ]
  },
  {
   "cell_type": "markdown",
   "metadata": {},
   "source": [
    "#### On February 12th, 2013, which New York area airport had the windiest weather?"
   ]
  },
  {
   "cell_type": "code",
   "execution_count": 5,
   "metadata": {
    "collapsed": false
   },
   "outputs": [
    {
     "data": {
      "text/html": [
       "<div>\n",
       "<table border=\"1\" class=\"dataframe\">\n",
       "  <thead>\n",
       "    <tr style=\"text-align: right;\">\n",
       "      <th></th>\n",
       "      <th>origin</th>\n",
       "      <th>year</th>\n",
       "      <th>month</th>\n",
       "      <th>day</th>\n",
       "      <th>hour</th>\n",
       "      <th>temp</th>\n",
       "      <th>dewp</th>\n",
       "      <th>humid</th>\n",
       "      <th>wind_dir</th>\n",
       "      <th>wind_speed</th>\n",
       "      <th>wind_gust</th>\n",
       "      <th>precip</th>\n",
       "      <th>pressure</th>\n",
       "      <th>visib</th>\n",
       "      <th>time_hour</th>\n",
       "    </tr>\n",
       "  </thead>\n",
       "  <tbody>\n",
       "    <tr>\n",
       "      <th>1015</th>\n",
       "      <td>EWR</td>\n",
       "      <td>2013</td>\n",
       "      <td>2</td>\n",
       "      <td>12</td>\n",
       "      <td>8</td>\n",
       "      <td>39.02</td>\n",
       "      <td>26.96</td>\n",
       "      <td>61.63</td>\n",
       "      <td>260.0</td>\n",
       "      <td>1048.36058</td>\n",
       "      <td>1206.432388</td>\n",
       "      <td>0.0</td>\n",
       "      <td>1008.3</td>\n",
       "      <td>10.0</td>\n",
       "      <td>2013-02-12T08:00:00Z</td>\n",
       "    </tr>\n",
       "    <tr>\n",
       "      <th>18433</th>\n",
       "      <td>LGA</td>\n",
       "      <td>2013</td>\n",
       "      <td>2</td>\n",
       "      <td>12</td>\n",
       "      <td>7</td>\n",
       "      <td>42.98</td>\n",
       "      <td>26.06</td>\n",
       "      <td>50.94</td>\n",
       "      <td>290.0</td>\n",
       "      <td>23.01560</td>\n",
       "      <td>26.485892</td>\n",
       "      <td>0.0</td>\n",
       "      <td>1007.1</td>\n",
       "      <td>10.0</td>\n",
       "      <td>2013-02-12T07:00:00Z</td>\n",
       "    </tr>\n",
       "    <tr>\n",
       "      <th>1024</th>\n",
       "      <td>EWR</td>\n",
       "      <td>2013</td>\n",
       "      <td>2</td>\n",
       "      <td>12</td>\n",
       "      <td>17</td>\n",
       "      <td>44.06</td>\n",
       "      <td>26.06</td>\n",
       "      <td>48.87</td>\n",
       "      <td>270.0</td>\n",
       "      <td>21.86482</td>\n",
       "      <td>25.161598</td>\n",
       "      <td>0.0</td>\n",
       "      <td>1012.5</td>\n",
       "      <td>10.0</td>\n",
       "      <td>2013-02-12T17:00:00Z</td>\n",
       "    </tr>\n",
       "    <tr>\n",
       "      <th>18444</th>\n",
       "      <td>LGA</td>\n",
       "      <td>2013</td>\n",
       "      <td>2</td>\n",
       "      <td>12</td>\n",
       "      <td>18</td>\n",
       "      <td>44.06</td>\n",
       "      <td>23.00</td>\n",
       "      <td>43.02</td>\n",
       "      <td>300.0</td>\n",
       "      <td>21.86482</td>\n",
       "      <td>25.161598</td>\n",
       "      <td>0.0</td>\n",
       "      <td>1011.7</td>\n",
       "      <td>10.0</td>\n",
       "      <td>2013-02-12T18:00:00Z</td>\n",
       "    </tr>\n",
       "    <tr>\n",
       "      <th>9728</th>\n",
       "      <td>JFK</td>\n",
       "      <td>2013</td>\n",
       "      <td>2</td>\n",
       "      <td>12</td>\n",
       "      <td>13</td>\n",
       "      <td>42.08</td>\n",
       "      <td>24.08</td>\n",
       "      <td>48.56</td>\n",
       "      <td>280.0</td>\n",
       "      <td>20.71404</td>\n",
       "      <td>23.837303</td>\n",
       "      <td>0.0</td>\n",
       "      <td>1011.6</td>\n",
       "      <td>10.0</td>\n",
       "      <td>2013-02-12T13:00:00Z</td>\n",
       "    </tr>\n",
       "  </tbody>\n",
       "</table>\n",
       "</div>"
      ],
      "text/plain": [
       "      origin  year  month  day  hour   temp   dewp  humid  wind_dir  \\\n",
       "1015     EWR  2013      2   12     8  39.02  26.96  61.63     260.0   \n",
       "18433    LGA  2013      2   12     7  42.98  26.06  50.94     290.0   \n",
       "1024     EWR  2013      2   12    17  44.06  26.06  48.87     270.0   \n",
       "18444    LGA  2013      2   12    18  44.06  23.00  43.02     300.0   \n",
       "9728     JFK  2013      2   12    13  42.08  24.08  48.56     280.0   \n",
       "\n",
       "       wind_speed    wind_gust  precip  pressure  visib             time_hour  \n",
       "1015   1048.36058  1206.432388     0.0    1008.3   10.0  2013-02-12T08:00:00Z  \n",
       "18433    23.01560    26.485892     0.0    1007.1   10.0  2013-02-12T07:00:00Z  \n",
       "1024     21.86482    25.161598     0.0    1012.5   10.0  2013-02-12T17:00:00Z  \n",
       "18444    21.86482    25.161598     0.0    1011.7   10.0  2013-02-12T18:00:00Z  \n",
       "9728     20.71404    23.837303     0.0    1011.6   10.0  2013-02-12T13:00:00Z  "
      ]
     },
     "execution_count": 5,
     "metadata": {},
     "output_type": "execute_result"
    }
   ],
   "source": [
    "windiest = pd.read_csv('https://raw.githubusercontent.com/hadley/nycflights13/master/data-raw/weather.csv')\n",
    "windiest_weather = windiest[(windiest[\"month\"]==2) & (windiest[\"day\"]==12) & (windiest[\"year\"]==2013)]\n",
    "windiest_weather.head()\n",
    "windiest_weather.sort_values(\"wind_speed\", ascending=False).head(5)"
   ]
  },
  {
   "cell_type": "markdown",
   "metadata": {},
   "source": [
    "According to the table, EWR, or Newark Liberty National Airport, has a wind speed of 1048.36058 miles per hour. Compared to the other values that around 20 to 23 miles per hour, I believe we need to confirm the wind speed for EWR. According to Weather Underground, the max wind speed recorded for Newark was 25 miles per hour on February 12th, 2013. Checking other airports on Weather Underground, these wind speeds approximately correct by looking at data presented (i.e. tables, graphs, max wind speeds). Since the value of 1048.36058 seems like an outlier, the windiest airport may be LaGuardia Airport instead of Liberty Airport with the information given."
   ]
  },
  {
   "cell_type": "markdown",
   "metadata": {},
   "source": [
    "##### Answer:\n",
    "\n",
    "### Without Outlier\n",
    "LaGuardia Airport\n",
    "\n",
    "### With Outlier\n",
    "Newark Liberty National Airport"
   ]
  }
 ],
 "metadata": {
  "kernelspec": {
   "display_name": "Python 3",
   "language": "python",
   "name": "python3"
  },
  "language_info": {
   "codemirror_mode": {
    "name": "ipython",
    "version": 3
   },
   "file_extension": ".py",
   "mimetype": "text/x-python",
   "name": "python",
   "nbconvert_exporter": "python",
   "pygments_lexer": "ipython3",
   "version": "3.6.0"
  }
 },
 "nbformat": 4,
 "nbformat_minor": 2
}
